{
 "cells": [
  {
   "cell_type": "markdown",
   "metadata": {},
   "source": [
    "## First: Review Existing Unstructured Data and Diagram a New Structured Relational Data Model"
   ]
  },
  {
   "cell_type": "markdown",
   "metadata": {},
   "source": [
    "![title](img/Untitled.PNG )"
   ]
  },
  {
   "cell_type": "markdown",
   "metadata": {},
   "source": [
    "## Second: Write a query that directly answers a predetermined question from a business stakeholder"
   ]
  },
  {
   "cell_type": "markdown",
   "metadata": {},
   "source": [
    "### Importing Libraries "
   ]
  },
  {
   "cell_type": "code",
   "execution_count": 21,
   "metadata": {},
   "outputs": [],
   "source": [
    "import gzip\n",
    "import json\n",
    "import pandas as pd\n",
    "import datetime"
   ]
  },
  {
   "cell_type": "markdown",
   "metadata": {},
   "source": [
    "###  Reading Data "
   ]
  },
  {
   "cell_type": "markdown",
   "metadata": {},
   "source": [
    "### Receipts"
   ]
  },
  {
   "cell_type": "code",
   "execution_count": 22,
   "metadata": {},
   "outputs": [
    {
     "data": {
      "text/html": [
       "<div>\n",
       "<style scoped>\n",
       "    .dataframe tbody tr th:only-of-type {\n",
       "        vertical-align: middle;\n",
       "    }\n",
       "\n",
       "    .dataframe tbody tr th {\n",
       "        vertical-align: top;\n",
       "    }\n",
       "\n",
       "    .dataframe thead th {\n",
       "        text-align: right;\n",
       "    }\n",
       "</style>\n",
       "<table border=\"1\" class=\"dataframe\">\n",
       "  <thead>\n",
       "    <tr style=\"text-align: right;\">\n",
       "      <th></th>\n",
       "      <th>receipt_id</th>\n",
       "      <th>description</th>\n",
       "      <th>rewardsGroup</th>\n",
       "      <th>bonusPointsEarned</th>\n",
       "      <th>bonusPointsEarnedReason</th>\n",
       "      <th>createDate</th>\n",
       "      <th>dateScanned</th>\n",
       "      <th>finishedDate</th>\n",
       "      <th>modifyDate</th>\n",
       "      <th>pointsAwardedDate</th>\n",
       "      <th>pointsEarned</th>\n",
       "      <th>purchaseDate</th>\n",
       "      <th>purchasedItemCount</th>\n",
       "      <th>rewardsReceiptStatus</th>\n",
       "      <th>totalSpent</th>\n",
       "      <th>userId</th>\n",
       "      <th>rewardsGroup_cleaned</th>\n",
       "    </tr>\n",
       "  </thead>\n",
       "  <tbody>\n",
       "    <tr>\n",
       "      <td>0</td>\n",
       "      <td>5ff1e1eb0a720f0523000575</td>\n",
       "      <td>ITEM NOT FOUND</td>\n",
       "      <td>Null</td>\n",
       "      <td>500</td>\n",
       "      <td>Receipt number 2 completed, bonus point schedu...</td>\n",
       "      <td>2021-01-03 15:25:31</td>\n",
       "      <td>2021-01-03 15:25:31</td>\n",
       "      <td>2021-01-03 15:25:31</td>\n",
       "      <td>2021-01-03 15:25:36</td>\n",
       "      <td>2021-01-03 15:25:31</td>\n",
       "      <td>500.0</td>\n",
       "      <td>2021-01-03 00:00:00</td>\n",
       "      <td>5</td>\n",
       "      <td>FINISHED</td>\n",
       "      <td>26.00</td>\n",
       "      <td>5ff1e1eacfcf6c399c274ae6</td>\n",
       "      <td>Null</td>\n",
       "    </tr>\n",
       "    <tr>\n",
       "      <td>1</td>\n",
       "      <td>5ff1e1bb0a720f052300056b</td>\n",
       "      <td>ITEM NOT FOUND</td>\n",
       "      <td>Null</td>\n",
       "      <td>150</td>\n",
       "      <td>Receipt number 5 completed, bonus point schedu...</td>\n",
       "      <td>2021-01-03 15:24:43</td>\n",
       "      <td>2021-01-03 15:24:43</td>\n",
       "      <td>2021-01-03 15:24:43</td>\n",
       "      <td>2021-01-03 15:24:48</td>\n",
       "      <td>2021-01-03 15:24:43</td>\n",
       "      <td>150.0</td>\n",
       "      <td>2021-01-02 15:24:43</td>\n",
       "      <td>2</td>\n",
       "      <td>FINISHED</td>\n",
       "      <td>11.00</td>\n",
       "      <td>5ff1e194b6a9d73a3a9f1052</td>\n",
       "      <td>Null</td>\n",
       "    </tr>\n",
       "    <tr>\n",
       "      <td>2</td>\n",
       "      <td>5ff1e1bb0a720f052300056b</td>\n",
       "      <td>DORITOS TORTILLA CHIP SPICY SWEET CHILI REDUCE...</td>\n",
       "      <td>DORITOS SPICY SWEET CHILI SINGLE SERVE</td>\n",
       "      <td>150</td>\n",
       "      <td>Receipt number 5 completed, bonus point schedu...</td>\n",
       "      <td>2021-01-03 15:24:43</td>\n",
       "      <td>2021-01-03 15:24:43</td>\n",
       "      <td>2021-01-03 15:24:43</td>\n",
       "      <td>2021-01-03 15:24:48</td>\n",
       "      <td>2021-01-03 15:24:43</td>\n",
       "      <td>150.0</td>\n",
       "      <td>2021-01-02 15:24:43</td>\n",
       "      <td>2</td>\n",
       "      <td>FINISHED</td>\n",
       "      <td>11.00</td>\n",
       "      <td>5ff1e194b6a9d73a3a9f1052</td>\n",
       "      <td>DORITOS</td>\n",
       "    </tr>\n",
       "    <tr>\n",
       "      <td>3</td>\n",
       "      <td>5ff1e1f10a720f052300057a</td>\n",
       "      <td>Null</td>\n",
       "      <td>Null</td>\n",
       "      <td>5</td>\n",
       "      <td>All-receipts receipt bonus</td>\n",
       "      <td>2021-01-03 15:25:37</td>\n",
       "      <td>2021-01-03 15:25:37</td>\n",
       "      <td>Null</td>\n",
       "      <td>2021-01-03 15:25:42</td>\n",
       "      <td>Null</td>\n",
       "      <td>5</td>\n",
       "      <td>2021-01-03 00:00:00</td>\n",
       "      <td>1</td>\n",
       "      <td>REJECTED</td>\n",
       "      <td>10.00</td>\n",
       "      <td>5ff1e1f1cfcf6c399c274b0b</td>\n",
       "      <td>Null</td>\n",
       "    </tr>\n",
       "    <tr>\n",
       "      <td>4</td>\n",
       "      <td>5ff1e1ee0a7214ada100056f</td>\n",
       "      <td>ITEM NOT FOUND</td>\n",
       "      <td>Null</td>\n",
       "      <td>5</td>\n",
       "      <td>All-receipts receipt bonus</td>\n",
       "      <td>2021-01-03 15:25:34</td>\n",
       "      <td>2021-01-03 15:25:34</td>\n",
       "      <td>2021-01-03 15:25:34</td>\n",
       "      <td>2021-01-03 15:25:39</td>\n",
       "      <td>2021-01-03 15:25:34</td>\n",
       "      <td>5.0</td>\n",
       "      <td>2021-01-03 00:00:00</td>\n",
       "      <td>4</td>\n",
       "      <td>FINISHED</td>\n",
       "      <td>28.00</td>\n",
       "      <td>5ff1e1eacfcf6c399c274ae6</td>\n",
       "      <td>Null</td>\n",
       "    </tr>\n",
       "  </tbody>\n",
       "</table>\n",
       "</div>"
      ],
      "text/plain": [
       "                 receipt_id  \\\n",
       "0  5ff1e1eb0a720f0523000575   \n",
       "1  5ff1e1bb0a720f052300056b   \n",
       "2  5ff1e1bb0a720f052300056b   \n",
       "3  5ff1e1f10a720f052300057a   \n",
       "4  5ff1e1ee0a7214ada100056f   \n",
       "\n",
       "                                         description  \\\n",
       "0                                     ITEM NOT FOUND   \n",
       "1                                     ITEM NOT FOUND   \n",
       "2  DORITOS TORTILLA CHIP SPICY SWEET CHILI REDUCE...   \n",
       "3                                               Null   \n",
       "4                                     ITEM NOT FOUND   \n",
       "\n",
       "                             rewardsGroup bonusPointsEarned  \\\n",
       "0                                    Null               500   \n",
       "1                                    Null               150   \n",
       "2  DORITOS SPICY SWEET CHILI SINGLE SERVE               150   \n",
       "3                                    Null                 5   \n",
       "4                                    Null                 5   \n",
       "\n",
       "                             bonusPointsEarnedReason          createDate  \\\n",
       "0  Receipt number 2 completed, bonus point schedu... 2021-01-03 15:25:31   \n",
       "1  Receipt number 5 completed, bonus point schedu... 2021-01-03 15:24:43   \n",
       "2  Receipt number 5 completed, bonus point schedu... 2021-01-03 15:24:43   \n",
       "3                         All-receipts receipt bonus 2021-01-03 15:25:37   \n",
       "4                         All-receipts receipt bonus 2021-01-03 15:25:34   \n",
       "\n",
       "          dateScanned         finishedDate          modifyDate  \\\n",
       "0 2021-01-03 15:25:31  2021-01-03 15:25:31 2021-01-03 15:25:36   \n",
       "1 2021-01-03 15:24:43  2021-01-03 15:24:43 2021-01-03 15:24:48   \n",
       "2 2021-01-03 15:24:43  2021-01-03 15:24:43 2021-01-03 15:24:48   \n",
       "3 2021-01-03 15:25:37                 Null 2021-01-03 15:25:42   \n",
       "4 2021-01-03 15:25:34  2021-01-03 15:25:34 2021-01-03 15:25:39   \n",
       "\n",
       "     pointsAwardedDate pointsEarned         purchaseDate purchasedItemCount  \\\n",
       "0  2021-01-03 15:25:31        500.0  2021-01-03 00:00:00                  5   \n",
       "1  2021-01-03 15:24:43        150.0  2021-01-02 15:24:43                  2   \n",
       "2  2021-01-03 15:24:43        150.0  2021-01-02 15:24:43                  2   \n",
       "3                 Null            5  2021-01-03 00:00:00                  1   \n",
       "4  2021-01-03 15:25:34          5.0  2021-01-03 00:00:00                  4   \n",
       "\n",
       "  rewardsReceiptStatus totalSpent                    userId  \\\n",
       "0             FINISHED      26.00  5ff1e1eacfcf6c399c274ae6   \n",
       "1             FINISHED      11.00  5ff1e194b6a9d73a3a9f1052   \n",
       "2             FINISHED      11.00  5ff1e194b6a9d73a3a9f1052   \n",
       "3             REJECTED      10.00  5ff1e1f1cfcf6c399c274b0b   \n",
       "4             FINISHED      28.00  5ff1e1eacfcf6c399c274ae6   \n",
       "\n",
       "  rewardsGroup_cleaned  \n",
       "0                 Null  \n",
       "1                 Null  \n",
       "2              DORITOS  \n",
       "3                 Null  \n",
       "4                 Null  "
      ]
     },
     "execution_count": 22,
     "metadata": {},
     "output_type": "execute_result"
    }
   ],
   "source": [
    "with gzip.open(\"receipts.json.gz\", \"r\") as f:\n",
    "    data_receipts = [json.loads(line) for line in f]\n",
    "\n",
    "receipt_id=[]\n",
    "for a in range(len(data_receipts)):\n",
    "    if '_id' in data_receipts[a]:\n",
    "        receipt_id.append( data_receipts[a]['_id']['$oid'] )\n",
    "    else:\n",
    "        receipt_id.append('Null')\n",
    "\n",
    "        \n",
    "bonusPointsEarned=[]\n",
    "for a in range(len(data_receipts)):\n",
    "    if 'bonusPointsEarned' in data_receipts[a]:\n",
    "        bonusPointsEarned.append( data_receipts[a]['bonusPointsEarned'] )\n",
    "    else:\n",
    "        bonusPointsEarned.append('Null')\n",
    "\n",
    "bonusPointsEarnedReason=[]\n",
    "for a in range(len(data_receipts)):\n",
    "    if 'bonusPointsEarnedReason' in data_receipts[a]:\n",
    "        bonusPointsEarnedReason.append( data_receipts[a]['bonusPointsEarnedReason'] )\n",
    "    else:\n",
    "        bonusPointsEarnedReason.append('Null')\n",
    "           \n",
    "createDate=[]\n",
    "for a in range(len(data_receipts)):\n",
    "    if 'createDate' in data_receipts[a]:\n",
    "        createDate.append(  pd.to_datetime(data_receipts[a]['createDate']['$date'] , unit='ms'))\n",
    "    else:\n",
    "        createDate.append('Null')\n",
    "        \n",
    "        \n",
    "dateScanned=[]\n",
    "for a in range(len(data_receipts)):\n",
    "    if 'dateScanned' in data_receipts[a]:\n",
    "        dateScanned.append(   pd.to_datetime(data_receipts[a]['dateScanned']['$date'] , unit='ms'))\n",
    "    else:\n",
    "        dateScanned.append('Null')\n",
    "        \n",
    "        \n",
    "finishedDate=[]\n",
    "for a in range(len(data_receipts)):\n",
    "    if 'finishedDate' in data_receipts[a]:\n",
    "        finishedDate.append(  pd.to_datetime(data_receipts[a]['finishedDate']['$date'] , unit='ms'))\n",
    "    else:\n",
    "        finishedDate.append('Null')\n",
    "        \n",
    "        \n",
    "modifyDate=[]\n",
    "for a in range(len(data_receipts)):\n",
    "    if 'modifyDate' in data_receipts[a]:\n",
    "        modifyDate.append(  pd.to_datetime(data_receipts[a]['modifyDate']['$date'] , unit='ms'))\n",
    "    else:\n",
    "        modifyDate.append('Null')\n",
    "        \n",
    "pointsAwardedDate=[]\n",
    "for a in range(len(data_receipts)):\n",
    "    if 'pointsAwardedDate' in data_receipts[a]:\n",
    "        pointsAwardedDate.append(  pd.to_datetime(data_receipts[a]['pointsAwardedDate']['$date'] , unit='ms'))\n",
    "    else:\n",
    "        pointsAwardedDate.append('Null')\n",
    "        \n",
    "pointsEarned=[]\n",
    "for a in range(len(data_receipts)):\n",
    "    if 'pointsEarned' in data_receipts[a]:\n",
    "        pointsEarned.append( data_receipts[a]['pointsEarned']) \n",
    "    else:\n",
    "        pointsEarned.append('Null')\n",
    "        \n",
    "purchaseDate=[]\n",
    "for a in range(len(data_receipts)):\n",
    "    if 'purchaseDate' in data_receipts[a]:\n",
    "        purchaseDate.append(   pd.to_datetime(data_receipts[a]['purchaseDate']['$date'] , unit='ms'))\n",
    "    else:\n",
    "        purchaseDate.append('Null')\n",
    "        \n",
    "purchasedItemCount=[]\n",
    "for a in range(len(data_receipts)):\n",
    "    if 'purchasedItemCount' in data_receipts[a]:\n",
    "        purchasedItemCount.append( data_receipts[a]['purchasedItemCount'] )\n",
    "    else:\n",
    "        purchasedItemCount.append('Null')\n",
    "        \n",
    "             \n",
    "rewardsReceiptStatus=[]\n",
    "for a in range(len(data_receipts)):\n",
    "    if 'rewardsReceiptStatus' in data_receipts[a]:\n",
    "        rewardsReceiptStatus.append( data_receipts[a]['rewardsReceiptStatus'] )\n",
    "    else:\n",
    "        rewardsReceiptStatus.append('Null')\n",
    "        \n",
    "totalSpent=[]\n",
    "for a in range(len(data_receipts)):\n",
    "    if 'totalSpent' in data_receipts[a]:\n",
    "        totalSpent.append( data_receipts[a]['totalSpent'] )\n",
    "    else:\n",
    "        totalSpent.append('Null')\n",
    "        \n",
    "userId=[]\n",
    "for a in range(len(data_receipts)):\n",
    "    if 'userId' in data_receipts[a]:\n",
    "        userId.append( data_receipts[a]['userId'] )\n",
    "    else:\n",
    "        userId.append('Null')\n",
    "        \n",
    "######        \n",
    "receipt_id_description_rewardsGroup=[]\n",
    "\n",
    "for a in range(len(data_receipts)):\n",
    "         \n",
    "    if 'rewardsReceiptItemList' in data_receipts[a]:\n",
    "        for b in range(len(data_receipts[a]['rewardsReceiptItemList'])):\n",
    "            new=[]\n",
    "            if '_id' in data_receipts[a]:\n",
    "                new.append( data_receipts[a]['_id']['$oid'] )\n",
    "            else:\n",
    "                new.append('Null')\n",
    "            if 'description' in data_receipts[a]['rewardsReceiptItemList'][b]:\n",
    "                new.append(  data_receipts[a]['rewardsReceiptItemList'][b]['description']  )\n",
    "            else:\n",
    "                new.append('Null')\n",
    "                \n",
    "                \n",
    "            if 'rewardsGroup' in data_receipts[a]['rewardsReceiptItemList'][b]:\n",
    "                new.append(  data_receipts[a]['rewardsReceiptItemList'][b]['rewardsGroup']  )\n",
    "            else:\n",
    "                new.append('Null')\n",
    "            \n",
    "            receipt_id_description_rewardsGroup.append(new)\n",
    "                \n",
    "    else:\n",
    "        new=[]\n",
    "        if '_id' in data_receipts[a]:\n",
    "            new.append( data_receipts[a]['_id']['$oid'] )\n",
    "        else:\n",
    "            new.append('Null')\n",
    "        new.append('Null')\n",
    "        new.append('Null')\n",
    "        \n",
    "        receipt_id_description_rewardsGroup.append(new)\n",
    "#####\n",
    "\n",
    "df_receipts_1 = pd.DataFrame({'receipt_id':receipt_id, 'bonusPointsEarned':bonusPointsEarned, 'bonusPointsEarnedReason':bonusPointsEarnedReason,\n",
    "            'createDate':createDate, 'dateScanned':dateScanned, 'finishedDate':finishedDate,\n",
    "            'modifyDate':modifyDate, 'pointsAwardedDate':pointsAwardedDate, 'pointsEarned':pointsEarned,\n",
    "             'purchaseDate':purchaseDate, 'purchasedItemCount': purchasedItemCount, \n",
    "              'rewardsReceiptStatus': rewardsReceiptStatus,\n",
    "             'totalSpent': totalSpent, 'userId': userId})\n",
    "\n",
    "\n",
    "df_receipts_2 = pd.DataFrame(data = receipt_id_description_rewardsGroup, columns=['receipt_id', 'description','rewardsGroup'])\n",
    "\n",
    "df_receipts = pd.merge(df_receipts_2, df_receipts_1 , on = 'receipt_id' ,how= 'left')\n",
    "\n",
    "def func_receipt(s):\n",
    "    if s=='Null':\n",
    "        return 'Null'\n",
    "    else:\n",
    "        return s.split()[0]\n",
    "df_receipts['rewardsGroup_cleaned']=df_receipts['rewardsGroup'].apply(func_receipt)\n",
    "\n",
    "df_receipts.head()"
   ]
  },
  {
   "cell_type": "code",
   "execution_count": 23,
   "metadata": {},
   "outputs": [],
   "source": [
    "from sqlalchemy import create_engine\n",
    "\n",
    "engine1 = create_engine('sqlite://', echo = False)\n",
    "\n",
    "df_receipts = df_receipts.applymap(str)\n",
    "\n",
    "df_receipts.to_sql('new1', con = engine1)\n",
    "\n",
    "K= engine1.execute(\"SELECT * FROM new1\").fetchall()\n",
    "K= [a[1:] for a in K]"
   ]
  },
  {
   "cell_type": "code",
   "execution_count": 1,
   "metadata": {
    "scrolled": true
   },
   "outputs": [
    {
     "ename": "NameError",
     "evalue": "name 'K' is not defined",
     "output_type": "error",
     "traceback": [
      "\u001b[1;31m---------------------------------------------------------------------------\u001b[0m",
      "\u001b[1;31mNameError\u001b[0m                                 Traceback (most recent call last)",
      "\u001b[1;32m<ipython-input-1-e9b05ca4716e>\u001b[0m in \u001b[0;36m<module>\u001b[1;34m\u001b[0m\n\u001b[1;32m----> 1\u001b[1;33m \u001b[1;32mfor\u001b[0m \u001b[0mrow\u001b[0m \u001b[1;32min\u001b[0m \u001b[0mK\u001b[0m\u001b[1;33m:\u001b[0m\u001b[1;33m\u001b[0m\u001b[1;33m\u001b[0m\u001b[0m\n\u001b[0m\u001b[0;32m      2\u001b[0m     \u001b[0mprint\u001b[0m\u001b[1;33m(\u001b[0m\u001b[0mrow\u001b[0m\u001b[1;33m[\u001b[0m\u001b[1;36m1\u001b[0m\u001b[1;33m:\u001b[0m\u001b[1;33m]\u001b[0m\u001b[1;33m,\u001b[0m \u001b[1;34m','\u001b[0m\u001b[1;33m)\u001b[0m\u001b[1;33m;\u001b[0m\u001b[1;33m\u001b[0m\u001b[1;33m\u001b[0m\u001b[0m\n",
      "\u001b[1;31mNameError\u001b[0m: name 'K' is not defined"
     ]
    }
   ],
   "source": [
    "for row in K:\n",
    "    print(row[1:], ',');"
   ]
  },
  {
   "cell_type": "code",
   "execution_count": 25,
   "metadata": {},
   "outputs": [
    {
     "name": "stdout",
     "output_type": "stream",
     "text": [
      " * sqlite:///engine.sqlite\n",
      "Done.\n",
      "Done.\n"
     ]
    },
    {
     "data": {
      "text/plain": [
       "[]"
      ]
     },
     "execution_count": 25,
     "metadata": {},
     "output_type": "execute_result"
    }
   ],
   "source": [
    "%%sql\n",
    "\n",
    "DROP TABLE IF EXISTS sql_receipts;\n",
    "\n",
    "\n",
    "CREATE TABLE sql_receipts (\n",
    "receipt_id TEXT ,\n",
    "description TEXT,\n",
    "rewardsGroup TEXT,\n",
    "bonusPointsEarned INTEGER ,\n",
    "bonusPointsEarnedReason TEXT ,\n",
    "createDate DATETIME,\n",
    "dateScanned DATETIME,\n",
    "finishedDate DATETIME,\n",
    "modifyDate DATETIME,\n",
    "pointsAwardedDate DATETIME,\n",
    "pointsEarned TEXT,\n",
    "purchaseDate DATETIME,\n",
    "purchasedItemCount INTEGER,\n",
    "rewardsReceiptStatus TEXT ,\n",
    "totalSpent TEXT,\n",
    "userId TEXT,\n",
    "rewardsGroup_cleaned TEXT\n",
    "    \n",
    ");"
   ]
  },
  {
   "cell_type": "code",
   "execution_count": 40,
   "metadata": {},
   "outputs": [
    {
     "name": "stdout",
     "output_type": "stream",
     "text": [
      " * sqlite:///engine.sqlite\n",
      "Done.\n"
     ]
    },
    {
     "data": {
      "text/html": [
       "<table>\n",
       "    <tr>\n",
       "        <th>receipt_id</th>\n",
       "        <th>description</th>\n",
       "        <th>rewardsGroup</th>\n",
       "        <th>bonusPointsEarned</th>\n",
       "        <th>bonusPointsEarnedReason</th>\n",
       "        <th>createDate</th>\n",
       "        <th>dateScanned</th>\n",
       "        <th>finishedDate</th>\n",
       "        <th>modifyDate</th>\n",
       "        <th>pointsAwardedDate</th>\n",
       "        <th>pointsEarned</th>\n",
       "        <th>purchaseDate</th>\n",
       "        <th>purchasedItemCount</th>\n",
       "        <th>rewardsReceiptStatus</th>\n",
       "        <th>totalSpent</th>\n",
       "        <th>userId</th>\n",
       "        <th>rewardsGroup_cleaned</th>\n",
       "    </tr>\n",
       "    <tr>\n",
       "        <td>5ff1e1eb0a720f0523000575</td>\n",
       "        <td>ITEM NOT FOUND</td>\n",
       "        <td>Null</td>\n",
       "        <td>500</td>\n",
       "        <td>Receipt number 2 completed, bonus point schedule DEFAULT (5cefdcacf3693e0b50e83a36)</td>\n",
       "        <td>2021-01-03 15:25:31</td>\n",
       "        <td>2021-01-03 15:25:31</td>\n",
       "        <td>2021-01-03 15:25:31</td>\n",
       "        <td>2021-01-03 15:25:36</td>\n",
       "        <td>2021-01-03 15:25:31</td>\n",
       "        <td>500.0</td>\n",
       "        <td>2021-01-03 00:00:00</td>\n",
       "        <td>5</td>\n",
       "        <td>FINISHED</td>\n",
       "        <td>26.00</td>\n",
       "        <td>5ff1e1eacfcf6c399c274ae6</td>\n",
       "        <td>Null</td>\n",
       "    </tr>\n",
       "    <tr>\n",
       "        <td>5ff1e1bb0a720f052300056b</td>\n",
       "        <td>ITEM NOT FOUND</td>\n",
       "        <td>Null</td>\n",
       "        <td>150</td>\n",
       "        <td>Receipt number 5 completed, bonus point schedule DEFAULT (5cefdcacf3693e0b50e83a36)</td>\n",
       "        <td>2021-01-03 15:24:43</td>\n",
       "        <td>2021-01-03 15:24:43</td>\n",
       "        <td>2021-01-03 15:24:43</td>\n",
       "        <td>2021-01-03 15:24:48</td>\n",
       "        <td>2021-01-03 15:24:43</td>\n",
       "        <td>150.0</td>\n",
       "        <td>2021-01-02 15:24:43</td>\n",
       "        <td>2</td>\n",
       "        <td>FINISHED</td>\n",
       "        <td>11.00</td>\n",
       "        <td>5ff1e194b6a9d73a3a9f1052</td>\n",
       "        <td>Null</td>\n",
       "    </tr>\n",
       "    <tr>\n",
       "        <td>5ff1e1bb0a720f052300056b</td>\n",
       "        <td>DORITOS TORTILLA CHIP SPICY SWEET CHILI REDUCED FAT BAG 1 OZ</td>\n",
       "        <td>DORITOS SPICY SWEET CHILI SINGLE SERVE</td>\n",
       "        <td>150</td>\n",
       "        <td>Receipt number 5 completed, bonus point schedule DEFAULT (5cefdcacf3693e0b50e83a36)</td>\n",
       "        <td>2021-01-03 15:24:43</td>\n",
       "        <td>2021-01-03 15:24:43</td>\n",
       "        <td>2021-01-03 15:24:43</td>\n",
       "        <td>2021-01-03 15:24:48</td>\n",
       "        <td>2021-01-03 15:24:43</td>\n",
       "        <td>150.0</td>\n",
       "        <td>2021-01-02 15:24:43</td>\n",
       "        <td>2</td>\n",
       "        <td>FINISHED</td>\n",
       "        <td>11.00</td>\n",
       "        <td>5ff1e194b6a9d73a3a9f1052</td>\n",
       "        <td>DORITOS</td>\n",
       "    </tr>\n",
       "    <tr>\n",
       "        <td>5ff1e1f10a720f052300057a</td>\n",
       "        <td>Null</td>\n",
       "        <td>Null</td>\n",
       "        <td>5</td>\n",
       "        <td>All-receipts receipt bonus</td>\n",
       "        <td>2021-01-03 15:25:37</td>\n",
       "        <td>2021-01-03 15:25:37</td>\n",
       "        <td>Null</td>\n",
       "        <td>2021-01-03 15:25:42</td>\n",
       "        <td>Null</td>\n",
       "        <td>5</td>\n",
       "        <td>2021-01-03 00:00:00</td>\n",
       "        <td>1</td>\n",
       "        <td>REJECTED</td>\n",
       "        <td>10.00</td>\n",
       "        <td>5ff1e1f1cfcf6c399c274b0b</td>\n",
       "        <td>Null</td>\n",
       "    </tr>\n",
       "    <tr>\n",
       "        <td>5ff1e1ee0a7214ada100056f</td>\n",
       "        <td>ITEM NOT FOUND</td>\n",
       "        <td>Null</td>\n",
       "        <td>5</td>\n",
       "        <td>All-receipts receipt bonus</td>\n",
       "        <td>2021-01-03 15:25:34</td>\n",
       "        <td>2021-01-03 15:25:34</td>\n",
       "        <td>2021-01-03 15:25:34</td>\n",
       "        <td>2021-01-03 15:25:39</td>\n",
       "        <td>2021-01-03 15:25:34</td>\n",
       "        <td>5.0</td>\n",
       "        <td>2021-01-03 00:00:00</td>\n",
       "        <td>4</td>\n",
       "        <td>FINISHED</td>\n",
       "        <td>28.00</td>\n",
       "        <td>5ff1e1eacfcf6c399c274ae6</td>\n",
       "        <td>Null</td>\n",
       "    </tr>\n",
       "</table>"
      ],
      "text/plain": [
       "[('5ff1e1eb0a720f0523000575', 'ITEM NOT FOUND', 'Null', 500, 'Receipt number 2 completed, bonus point schedule DEFAULT (5cefdcacf3693e0b50e83a36)', '2021-01-03 15:25:31', '2021-01-03 15:25:31', '2021-01-03 15:25:31', '2021-01-03 15:25:36', '2021-01-03 15:25:31', '500.0', '2021-01-03 00:00:00', 5, 'FINISHED', '26.00', '5ff1e1eacfcf6c399c274ae6', 'Null'),\n",
       " ('5ff1e1bb0a720f052300056b', 'ITEM NOT FOUND', 'Null', 150, 'Receipt number 5 completed, bonus point schedule DEFAULT (5cefdcacf3693e0b50e83a36)', '2021-01-03 15:24:43', '2021-01-03 15:24:43', '2021-01-03 15:24:43', '2021-01-03 15:24:48', '2021-01-03 15:24:43', '150.0', '2021-01-02 15:24:43', 2, 'FINISHED', '11.00', '5ff1e194b6a9d73a3a9f1052', 'Null'),\n",
       " ('5ff1e1bb0a720f052300056b', 'DORITOS TORTILLA CHIP SPICY SWEET CHILI REDUCED FAT BAG 1 OZ', 'DORITOS SPICY SWEET CHILI SINGLE SERVE', 150, 'Receipt number 5 completed, bonus point schedule DEFAULT (5cefdcacf3693e0b50e83a36)', '2021-01-03 15:24:43', '2021-01-03 15:24:43', '2021-01-03 15:24:43', '2021-01-03 15:24:48', '2021-01-03 15:24:43', '150.0', '2021-01-02 15:24:43', 2, 'FINISHED', '11.00', '5ff1e194b6a9d73a3a9f1052', 'DORITOS'),\n",
       " ('5ff1e1f10a720f052300057a', 'Null', 'Null', 5, 'All-receipts receipt bonus', '2021-01-03 15:25:37', '2021-01-03 15:25:37', 'Null', '2021-01-03 15:25:42', 'Null', '5', '2021-01-03 00:00:00', 1, 'REJECTED', '10.00', '5ff1e1f1cfcf6c399c274b0b', 'Null'),\n",
       " ('5ff1e1ee0a7214ada100056f', 'ITEM NOT FOUND', 'Null', 5, 'All-receipts receipt bonus', '2021-01-03 15:25:34', '2021-01-03 15:25:34', '2021-01-03 15:25:34', '2021-01-03 15:25:39', '2021-01-03 15:25:34', '5.0', '2021-01-03 00:00:00', 4, 'FINISHED', '28.00', '5ff1e1eacfcf6c399c274ae6', 'Null')]"
      ]
     },
     "execution_count": 40,
     "metadata": {},
     "output_type": "execute_result"
    }
   ],
   "source": [
    "%%sql\n",
    "\n",
    "SELECT * FROM sql_receipts\n",
    "LIMIT 5;"
   ]
  },
  {
   "cell_type": "markdown",
   "metadata": {},
   "source": [
    "### Brands"
   ]
  },
  {
   "cell_type": "code",
   "execution_count": 28,
   "metadata": {},
   "outputs": [
    {
     "data": {
      "text/html": [
       "<div>\n",
       "<style scoped>\n",
       "    .dataframe tbody tr th:only-of-type {\n",
       "        vertical-align: middle;\n",
       "    }\n",
       "\n",
       "    .dataframe tbody tr th {\n",
       "        vertical-align: top;\n",
       "    }\n",
       "\n",
       "    .dataframe thead th {\n",
       "        text-align: right;\n",
       "    }\n",
       "</style>\n",
       "<table border=\"1\" class=\"dataframe\">\n",
       "  <thead>\n",
       "    <tr style=\"text-align: right;\">\n",
       "      <th></th>\n",
       "      <th>brand_id</th>\n",
       "      <th>barcode</th>\n",
       "      <th>brandCode</th>\n",
       "      <th>category</th>\n",
       "      <th>categoryCode</th>\n",
       "      <th>cpg</th>\n",
       "      <th>topBrand</th>\n",
       "      <th>name</th>\n",
       "      <th>name_cleaned</th>\n",
       "    </tr>\n",
       "  </thead>\n",
       "  <tbody>\n",
       "    <tr>\n",
       "      <td>0</td>\n",
       "      <td>601ac115be37ce2ead437551</td>\n",
       "      <td>511111019862</td>\n",
       "      <td>Null</td>\n",
       "      <td>Baking</td>\n",
       "      <td>BAKING</td>\n",
       "      <td>601ac114be37ce2ead437550</td>\n",
       "      <td>False</td>\n",
       "      <td>test brand @1612366101024</td>\n",
       "      <td>Null</td>\n",
       "    </tr>\n",
       "    <tr>\n",
       "      <td>1</td>\n",
       "      <td>601c5460be37ce2ead43755f</td>\n",
       "      <td>511111519928</td>\n",
       "      <td>STARBUCKS</td>\n",
       "      <td>Beverages</td>\n",
       "      <td>BEVERAGES</td>\n",
       "      <td>601ac114be37ce2ead437550</td>\n",
       "      <td>False</td>\n",
       "      <td>Starbucks</td>\n",
       "      <td>STARBUCKS</td>\n",
       "    </tr>\n",
       "    <tr>\n",
       "      <td>2</td>\n",
       "      <td>601ac142be37ce2ead43755d</td>\n",
       "      <td>511111819905</td>\n",
       "      <td>TEST BRANDCODE @1612366146176</td>\n",
       "      <td>Baking</td>\n",
       "      <td>BAKING</td>\n",
       "      <td>601ac114be37ce2ead437550</td>\n",
       "      <td>False</td>\n",
       "      <td>test brand @1612366146176</td>\n",
       "      <td>Null</td>\n",
       "    </tr>\n",
       "    <tr>\n",
       "      <td>3</td>\n",
       "      <td>601ac142be37ce2ead43755a</td>\n",
       "      <td>511111519874</td>\n",
       "      <td>TEST BRANDCODE @1612366146051</td>\n",
       "      <td>Baking</td>\n",
       "      <td>BAKING</td>\n",
       "      <td>601ac114be37ce2ead437550</td>\n",
       "      <td>False</td>\n",
       "      <td>test brand @1612366146051</td>\n",
       "      <td>Null</td>\n",
       "    </tr>\n",
       "    <tr>\n",
       "      <td>4</td>\n",
       "      <td>601ac142be37ce2ead43755e</td>\n",
       "      <td>511111319917</td>\n",
       "      <td>TEST BRANDCODE @1612366146827</td>\n",
       "      <td>Candy &amp; Sweets</td>\n",
       "      <td>CANDY_AND_SWEETS</td>\n",
       "      <td>601ac114be37ce2ead437550</td>\n",
       "      <td>False</td>\n",
       "      <td>test brand @1612366146827</td>\n",
       "      <td>Null</td>\n",
       "    </tr>\n",
       "  </tbody>\n",
       "</table>\n",
       "</div>"
      ],
      "text/plain": [
       "                   brand_id       barcode                      brandCode  \\\n",
       "0  601ac115be37ce2ead437551  511111019862                           Null   \n",
       "1  601c5460be37ce2ead43755f  511111519928                      STARBUCKS   \n",
       "2  601ac142be37ce2ead43755d  511111819905  TEST BRANDCODE @1612366146176   \n",
       "3  601ac142be37ce2ead43755a  511111519874  TEST BRANDCODE @1612366146051   \n",
       "4  601ac142be37ce2ead43755e  511111319917  TEST BRANDCODE @1612366146827   \n",
       "\n",
       "         category      categoryCode                       cpg topBrand  \\\n",
       "0          Baking            BAKING  601ac114be37ce2ead437550    False   \n",
       "1       Beverages         BEVERAGES  601ac114be37ce2ead437550    False   \n",
       "2          Baking            BAKING  601ac114be37ce2ead437550    False   \n",
       "3          Baking            BAKING  601ac114be37ce2ead437550    False   \n",
       "4  Candy & Sweets  CANDY_AND_SWEETS  601ac114be37ce2ead437550    False   \n",
       "\n",
       "                        name name_cleaned  \n",
       "0  test brand @1612366101024         Null  \n",
       "1                  Starbucks    STARBUCKS  \n",
       "2  test brand @1612366146176         Null  \n",
       "3  test brand @1612366146051         Null  \n",
       "4  test brand @1612366146827         Null  "
      ]
     },
     "execution_count": 28,
     "metadata": {},
     "output_type": "execute_result"
    }
   ],
   "source": [
    "with gzip.open(\"brands.json.gz\", \"r\") as f:\n",
    "    data_brands = [json.loads(line) for line in f]\n",
    "\n",
    "brand_id=[]\n",
    "for a in range(len(data_brands)):\n",
    "    if '_id' in data_brands[a]:\n",
    "        brand_id.append( data_brands[a]['_id']['$oid'] )\n",
    "    else:\n",
    "        brand_id.append('Null')\n",
    "        \n",
    "        \n",
    "barcode=[]\n",
    "for a in range(len(data_brands)):\n",
    "    if 'barcode' in data_brands[a]:\n",
    "        barcode.append( data_brands[a]['barcode'])\n",
    "    else:\n",
    "        barcode.append('Null')\n",
    "\n",
    "brandCode=[]\n",
    "for a in range(len(data_brands)):\n",
    "    if 'brandCode' in data_brands[a]:\n",
    "        brandCode.append( data_brands[a]['brandCode'])\n",
    "    else:\n",
    "        brandCode.append('Null')\n",
    "        \n",
    "category=[]\n",
    "for a in range(len(data_brands)):\n",
    "    if 'category' in data_brands[a]:\n",
    "        category.append( data_brands[a]['category'])\n",
    "    else:\n",
    "        category.append('Null')\n",
    "        \n",
    "        \n",
    "categoryCode=[]\n",
    "for a in range(len(data_brands)):\n",
    "    if 'categoryCode' in data_brands[a]:\n",
    "        categoryCode.append( data_brands[a]['categoryCode'])\n",
    "    else:\n",
    "        categoryCode.append('Null')\n",
    "        \n",
    "        \n",
    "cpg=[]\n",
    "for a in range(len(data_brands)):\n",
    "    if 'cpg' in data_brands[a]:\n",
    "        cpg.append( data_brands[0]['cpg']['$id']['$oid'])\n",
    "    else:\n",
    "        cpg.append('Null')\n",
    "        \n",
    "topBrand=[]\n",
    "for a in range(len(data_brands)):\n",
    "    if 'topBrand' in data_brands[a]:\n",
    "        topBrand.append( data_brands[a]['topBrand'])\n",
    "    else:\n",
    "        topBrand.append('Null')\n",
    "        \n",
    "name=[]\n",
    "for a in range(len(data_brands)):\n",
    "    if 'name' in data_brands[a]:\n",
    "        name.append( data_brands[a]['name'])\n",
    "    else:\n",
    "        name.append('Null')\n",
    "        \n",
    "df_brands = pd.DataFrame({'brand_id':brand_id, 'barcode':barcode, 'brandCode':brandCode,\n",
    "            'category':category, 'categoryCode':categoryCode, 'cpg':cpg, 'topBrand':topBrand, \n",
    "             'name':name  })\n",
    "\n",
    "def func_brand(s):\n",
    "    if s=='Null' or s.split()[0:2]==['test', 'brand']:\n",
    "        return 'Null'\n",
    "    else:\n",
    "        k=s.split()\n",
    "        return k[0].upper()\n",
    "    \n",
    "df_brands['name_cleaned'] = df_brands['name'].apply(func_brand)\n",
    "\n",
    "\n",
    "df_brands.head()"
   ]
  },
  {
   "cell_type": "code",
   "execution_count": 29,
   "metadata": {},
   "outputs": [],
   "source": [
    "engine2= create_engine('sqlite://', echo = False)\n",
    "\n",
    "df_brands = df_brands.applymap(str)\n",
    "\n",
    "df_brands.to_sql('new2', con = engine2)\n",
    "\n",
    "K= engine2.execute(\"SELECT * FROM new2\").fetchall()\n",
    "\n",
    "K= [a[1:] for a in K]"
   ]
  },
  {
   "cell_type": "code",
   "execution_count": 2,
   "metadata": {
    "scrolled": true
   },
   "outputs": [
    {
     "ename": "NameError",
     "evalue": "name 'K' is not defined",
     "output_type": "error",
     "traceback": [
      "\u001b[1;31m---------------------------------------------------------------------------\u001b[0m",
      "\u001b[1;31mNameError\u001b[0m                                 Traceback (most recent call last)",
      "\u001b[1;32m<ipython-input-2-e9b05ca4716e>\u001b[0m in \u001b[0;36m<module>\u001b[1;34m\u001b[0m\n\u001b[1;32m----> 1\u001b[1;33m \u001b[1;32mfor\u001b[0m \u001b[0mrow\u001b[0m \u001b[1;32min\u001b[0m \u001b[0mK\u001b[0m\u001b[1;33m:\u001b[0m\u001b[1;33m\u001b[0m\u001b[1;33m\u001b[0m\u001b[0m\n\u001b[0m\u001b[0;32m      2\u001b[0m     \u001b[0mprint\u001b[0m\u001b[1;33m(\u001b[0m\u001b[0mrow\u001b[0m\u001b[1;33m[\u001b[0m\u001b[1;36m1\u001b[0m\u001b[1;33m:\u001b[0m\u001b[1;33m]\u001b[0m\u001b[1;33m,\u001b[0m \u001b[1;34m','\u001b[0m\u001b[1;33m)\u001b[0m\u001b[1;33m;\u001b[0m\u001b[1;33m\u001b[0m\u001b[1;33m\u001b[0m\u001b[0m\n",
      "\u001b[1;31mNameError\u001b[0m: name 'K' is not defined"
     ]
    }
   ],
   "source": [
    "for row in K:\n",
    "    print(row[1:], ',');"
   ]
  },
  {
   "cell_type": "code",
   "execution_count": 31,
   "metadata": {},
   "outputs": [
    {
     "name": "stdout",
     "output_type": "stream",
     "text": [
      " * sqlite:///engine.sqlite\n",
      "Done.\n",
      "Done.\n"
     ]
    },
    {
     "data": {
      "text/plain": [
       "[]"
      ]
     },
     "execution_count": 31,
     "metadata": {},
     "output_type": "execute_result"
    }
   ],
   "source": [
    "%%sql\n",
    "\n",
    "DROP TABLE IF EXISTS sql_brands;\n",
    "\n",
    "CREATE TABLE sql_brands (\n",
    "brand_id TEXT,\n",
    "barcode TEXT ,\n",
    "brandCode TEXT,\n",
    "category TEXT,    \n",
    "categoryCode TEXT ,\n",
    "cpg TEXT ,\n",
    "topBrand TEXT,    \n",
    "name TEXT,\n",
    "name_cleaned TEXT\n",
    ");"
   ]
  },
  {
   "cell_type": "code",
   "execution_count": 41,
   "metadata": {},
   "outputs": [
    {
     "name": "stdout",
     "output_type": "stream",
     "text": [
      " * sqlite:///engine.sqlite\n",
      "Done.\n"
     ]
    },
    {
     "data": {
      "text/html": [
       "<table>\n",
       "    <tr>\n",
       "        <th>brand_id</th>\n",
       "        <th>barcode</th>\n",
       "        <th>brandCode</th>\n",
       "        <th>category</th>\n",
       "        <th>categoryCode</th>\n",
       "        <th>cpg</th>\n",
       "        <th>topBrand</th>\n",
       "        <th>name</th>\n",
       "        <th>name_cleaned</th>\n",
       "    </tr>\n",
       "    <tr>\n",
       "        <td>601ac115be37ce2ead437551</td>\n",
       "        <td>511111019862</td>\n",
       "        <td>Null</td>\n",
       "        <td>Baking</td>\n",
       "        <td>BAKING</td>\n",
       "        <td>601ac114be37ce2ead437550</td>\n",
       "        <td>0</td>\n",
       "        <td>test brand @1612366101024</td>\n",
       "        <td>Null</td>\n",
       "    </tr>\n",
       "    <tr>\n",
       "        <td>601c5460be37ce2ead43755f</td>\n",
       "        <td>511111519928</td>\n",
       "        <td>STARBUCKS</td>\n",
       "        <td>Beverages</td>\n",
       "        <td>BEVERAGES</td>\n",
       "        <td>601ac114be37ce2ead437550</td>\n",
       "        <td>0</td>\n",
       "        <td>Starbucks</td>\n",
       "        <td>Starbucks</td>\n",
       "    </tr>\n",
       "    <tr>\n",
       "        <td>601ac142be37ce2ead43755d</td>\n",
       "        <td>511111819905</td>\n",
       "        <td>TEST BRANDCODE @1612366146176</td>\n",
       "        <td>Baking</td>\n",
       "        <td>BAKING</td>\n",
       "        <td>601ac114be37ce2ead437550</td>\n",
       "        <td>0</td>\n",
       "        <td>test brand @1612366146176</td>\n",
       "        <td>Null</td>\n",
       "    </tr>\n",
       "    <tr>\n",
       "        <td>601ac142be37ce2ead43755a</td>\n",
       "        <td>511111519874</td>\n",
       "        <td>TEST BRANDCODE @1612366146051</td>\n",
       "        <td>Baking</td>\n",
       "        <td>BAKING</td>\n",
       "        <td>601ac114be37ce2ead437550</td>\n",
       "        <td>0</td>\n",
       "        <td>test brand @1612366146051</td>\n",
       "        <td>Null</td>\n",
       "    </tr>\n",
       "    <tr>\n",
       "        <td>601ac142be37ce2ead43755e</td>\n",
       "        <td>511111319917</td>\n",
       "        <td>TEST BRANDCODE @1612366146827</td>\n",
       "        <td>Candy &amp; Sweets</td>\n",
       "        <td>CANDY_AND_SWEETS</td>\n",
       "        <td>601ac114be37ce2ead437550</td>\n",
       "        <td>0</td>\n",
       "        <td>test brand @1612366146827</td>\n",
       "        <td>Null</td>\n",
       "    </tr>\n",
       "</table>"
      ],
      "text/plain": [
       "[('601ac115be37ce2ead437551', '511111019862', 'Null', 'Baking', 'BAKING', '601ac114be37ce2ead437550', '0', 'test brand @1612366101024', 'Null'),\n",
       " ('601c5460be37ce2ead43755f', '511111519928', 'STARBUCKS', 'Beverages', 'BEVERAGES', '601ac114be37ce2ead437550', '0', 'Starbucks', 'Starbucks'),\n",
       " ('601ac142be37ce2ead43755d', '511111819905', 'TEST BRANDCODE @1612366146176', 'Baking', 'BAKING', '601ac114be37ce2ead437550', '0', 'test brand @1612366146176', 'Null'),\n",
       " ('601ac142be37ce2ead43755a', '511111519874', 'TEST BRANDCODE @1612366146051', 'Baking', 'BAKING', '601ac114be37ce2ead437550', '0', 'test brand @1612366146051', 'Null'),\n",
       " ('601ac142be37ce2ead43755e', '511111319917', 'TEST BRANDCODE @1612366146827', 'Candy & Sweets', 'CANDY_AND_SWEETS', '601ac114be37ce2ead437550', '0', 'test brand @1612366146827', 'Null')]"
      ]
     },
     "execution_count": 41,
     "metadata": {},
     "output_type": "execute_result"
    }
   ],
   "source": [
    "%%sql\n",
    "\n",
    "SELECT * FROM sql_brands \n",
    "LIMIT 5;"
   ]
  },
  {
   "cell_type": "markdown",
   "metadata": {},
   "source": [
    "### Users"
   ]
  },
  {
   "cell_type": "code",
   "execution_count": 42,
   "metadata": {},
   "outputs": [
    {
     "data": {
      "text/html": [
       "<div>\n",
       "<style scoped>\n",
       "    .dataframe tbody tr th:only-of-type {\n",
       "        vertical-align: middle;\n",
       "    }\n",
       "\n",
       "    .dataframe tbody tr th {\n",
       "        vertical-align: top;\n",
       "    }\n",
       "\n",
       "    .dataframe thead th {\n",
       "        text-align: right;\n",
       "    }\n",
       "</style>\n",
       "<table border=\"1\" class=\"dataframe\">\n",
       "  <thead>\n",
       "    <tr style=\"text-align: right;\">\n",
       "      <th></th>\n",
       "      <th>user_id</th>\n",
       "      <th>state</th>\n",
       "      <th>createdDate</th>\n",
       "      <th>lastLogin</th>\n",
       "      <th>role</th>\n",
       "      <th>active</th>\n",
       "    </tr>\n",
       "  </thead>\n",
       "  <tbody>\n",
       "    <tr>\n",
       "      <td>0</td>\n",
       "      <td>5ff1e194b6a9d73a3a9f1052</td>\n",
       "      <td>WI</td>\n",
       "      <td>2021-01-03 15:24:04.800</td>\n",
       "      <td>2021-01-03 15:25:37.858000</td>\n",
       "      <td>consumer</td>\n",
       "      <td>True</td>\n",
       "    </tr>\n",
       "    <tr>\n",
       "      <td>1</td>\n",
       "      <td>5ff1e194b6a9d73a3a9f1052</td>\n",
       "      <td>WI</td>\n",
       "      <td>2021-01-03 15:24:04.800</td>\n",
       "      <td>2021-01-03 15:25:37.858000</td>\n",
       "      <td>consumer</td>\n",
       "      <td>True</td>\n",
       "    </tr>\n",
       "    <tr>\n",
       "      <td>2</td>\n",
       "      <td>5ff1e194b6a9d73a3a9f1052</td>\n",
       "      <td>WI</td>\n",
       "      <td>2021-01-03 15:24:04.800</td>\n",
       "      <td>2021-01-03 15:25:37.858000</td>\n",
       "      <td>consumer</td>\n",
       "      <td>True</td>\n",
       "    </tr>\n",
       "    <tr>\n",
       "      <td>3</td>\n",
       "      <td>5ff1e1eacfcf6c399c274ae6</td>\n",
       "      <td>WI</td>\n",
       "      <td>2021-01-03 15:25:30.554</td>\n",
       "      <td>2021-01-03 15:25:30.597000</td>\n",
       "      <td>consumer</td>\n",
       "      <td>True</td>\n",
       "    </tr>\n",
       "    <tr>\n",
       "      <td>4</td>\n",
       "      <td>5ff1e194b6a9d73a3a9f1052</td>\n",
       "      <td>WI</td>\n",
       "      <td>2021-01-03 15:24:04.800</td>\n",
       "      <td>2021-01-03 15:25:37.858000</td>\n",
       "      <td>consumer</td>\n",
       "      <td>True</td>\n",
       "    </tr>\n",
       "  </tbody>\n",
       "</table>\n",
       "</div>"
      ],
      "text/plain": [
       "                    user_id state             createdDate  \\\n",
       "0  5ff1e194b6a9d73a3a9f1052    WI 2021-01-03 15:24:04.800   \n",
       "1  5ff1e194b6a9d73a3a9f1052    WI 2021-01-03 15:24:04.800   \n",
       "2  5ff1e194b6a9d73a3a9f1052    WI 2021-01-03 15:24:04.800   \n",
       "3  5ff1e1eacfcf6c399c274ae6    WI 2021-01-03 15:25:30.554   \n",
       "4  5ff1e194b6a9d73a3a9f1052    WI 2021-01-03 15:24:04.800   \n",
       "\n",
       "                    lastLogin      role  active  \n",
       "0  2021-01-03 15:25:37.858000  consumer    True  \n",
       "1  2021-01-03 15:25:37.858000  consumer    True  \n",
       "2  2021-01-03 15:25:37.858000  consumer    True  \n",
       "3  2021-01-03 15:25:30.597000  consumer    True  \n",
       "4  2021-01-03 15:25:37.858000  consumer    True  "
      ]
     },
     "execution_count": 42,
     "metadata": {},
     "output_type": "execute_result"
    }
   ],
   "source": [
    "with gzip.open(\"users.json.gz\", \"r\") as f:\n",
    "    data_users = [json.loads(line) for line in f]\n",
    "\n",
    "user_id=[]\n",
    "for a in range(len(data_users)):\n",
    "    if '_id' in data_users[a]:\n",
    "        user_id.append( data_users[a]['_id']['$oid'] )\n",
    "    else:\n",
    "        user_id.append('Null')\n",
    "        \n",
    "state=[]\n",
    "for a in range(len(data_users)):\n",
    "    if 'state' in data_users[a]:\n",
    "        state.append( data_users[a]['state'])\n",
    "    else:\n",
    "        state.append('Null')        \n",
    "\n",
    "createdDate=[]\n",
    "for a in range(len(data_users)):\n",
    "    if 'createdDate' in data_users[a]:\n",
    "        createdDate.append(  pd.to_datetime(data_users[a]['createdDate']['$date'] , unit='ms'))\n",
    "    else:\n",
    "        createdDate.append('Null')\n",
    "        \n",
    "lastLogin=[]\n",
    "for a in range(len(data_users)):\n",
    "    if 'lastLogin' in data_users[a]:\n",
    "        lastLogin.append(   pd.to_datetime(data_users[a]['lastLogin']['$date'] , unit='ms'))\n",
    "    else:\n",
    "        lastLogin.append('Null')\n",
    "        \n",
    "role=[]\n",
    "for a in range(len(data_users)):\n",
    "    if 'role' in data_users[a]:\n",
    "        role.append( data_users[a]['role'] )\n",
    "    else:\n",
    "        role.append('Null')\n",
    "        \n",
    "        \n",
    "active=[]\n",
    "for a in range(len(data_users)):\n",
    "    if 'active' in data_users[a]:\n",
    "        active.append( data_users[a]['active'] )\n",
    "    else:\n",
    "        active.append('Null')\n",
    "        \n",
    "df_users = pd.DataFrame({'user_id':user_id, 'state':state, 'createdDate':createdDate,\n",
    "            'lastLogin':lastLogin, 'role':role, 'active':active})\n",
    "df_users.head()"
   ]
  },
  {
   "cell_type": "code",
   "execution_count": 43,
   "metadata": {},
   "outputs": [],
   "source": [
    "engine3 = create_engine('sqlite://', echo = False)\n",
    "\n",
    "df_users = df_users.applymap(str)\n",
    "\n",
    "df_users.to_sql('new3', con = engine3)\n",
    "\n",
    "K= engine3.execute(\"SELECT * FROM new3\").fetchall()\n",
    "\n",
    "K= [a[1:] for a in K]"
   ]
  },
  {
   "cell_type": "code",
   "execution_count": 3,
   "metadata": {
    "scrolled": true
   },
   "outputs": [
    {
     "ename": "NameError",
     "evalue": "name 'K' is not defined",
     "output_type": "error",
     "traceback": [
      "\u001b[1;31m---------------------------------------------------------------------------\u001b[0m",
      "\u001b[1;31mNameError\u001b[0m                                 Traceback (most recent call last)",
      "\u001b[1;32m<ipython-input-3-e9b05ca4716e>\u001b[0m in \u001b[0;36m<module>\u001b[1;34m\u001b[0m\n\u001b[1;32m----> 1\u001b[1;33m \u001b[1;32mfor\u001b[0m \u001b[0mrow\u001b[0m \u001b[1;32min\u001b[0m \u001b[0mK\u001b[0m\u001b[1;33m:\u001b[0m\u001b[1;33m\u001b[0m\u001b[1;33m\u001b[0m\u001b[0m\n\u001b[0m\u001b[0;32m      2\u001b[0m     \u001b[0mprint\u001b[0m\u001b[1;33m(\u001b[0m\u001b[0mrow\u001b[0m\u001b[1;33m[\u001b[0m\u001b[1;36m1\u001b[0m\u001b[1;33m:\u001b[0m\u001b[1;33m]\u001b[0m\u001b[1;33m,\u001b[0m \u001b[1;34m','\u001b[0m\u001b[1;33m)\u001b[0m\u001b[1;33m;\u001b[0m\u001b[1;33m\u001b[0m\u001b[1;33m\u001b[0m\u001b[0m\n",
      "\u001b[1;31mNameError\u001b[0m: name 'K' is not defined"
     ]
    }
   ],
   "source": [
    "for row in K:\n",
    "    print(row[1:], ',');"
   ]
  },
  {
   "cell_type": "code",
   "execution_count": 45,
   "metadata": {},
   "outputs": [
    {
     "name": "stdout",
     "output_type": "stream",
     "text": [
      " * sqlite:///engine.sqlite\n",
      "Done.\n",
      "Done.\n"
     ]
    },
    {
     "data": {
      "text/plain": [
       "[]"
      ]
     },
     "execution_count": 45,
     "metadata": {},
     "output_type": "execute_result"
    }
   ],
   "source": [
    "%%sql\n",
    "\n",
    "DROP TABLE IF EXISTS sql_users;\n",
    "\n",
    "\n",
    "CREATE TABLE sql_users(\n",
    "user_id TEXT ,\n",
    "state TEXT,\n",
    "createdDate DATETIME,\n",
    "lastLogin DATETIME ,\n",
    "role TEXT ,\n",
    "active TEXT)\n",
    ";\n"
   ]
  },
  {
   "cell_type": "code",
   "execution_count": 47,
   "metadata": {},
   "outputs": [
    {
     "name": "stdout",
     "output_type": "stream",
     "text": [
      " * sqlite:///engine.sqlite\n",
      "Done.\n"
     ]
    },
    {
     "data": {
      "text/html": [
       "<table>\n",
       "    <tr>\n",
       "        <th>user_id</th>\n",
       "        <th>state</th>\n",
       "        <th>createdDate</th>\n",
       "        <th>lastLogin</th>\n",
       "        <th>role</th>\n",
       "        <th>active</th>\n",
       "    </tr>\n",
       "    <tr>\n",
       "        <td>5ff1e194b6a9d73a3a9f1052</td>\n",
       "        <td>WI</td>\n",
       "        <td>2021-01-03 15:24:04.800000</td>\n",
       "        <td>2021-01-03 15:25:37.858000</td>\n",
       "        <td>consumer</td>\n",
       "        <td>True</td>\n",
       "    </tr>\n",
       "    <tr>\n",
       "        <td>5ff1e194b6a9d73a3a9f1052</td>\n",
       "        <td>WI</td>\n",
       "        <td>2021-01-03 15:24:04.800000</td>\n",
       "        <td>2021-01-03 15:25:37.858000</td>\n",
       "        <td>consumer</td>\n",
       "        <td>True</td>\n",
       "    </tr>\n",
       "    <tr>\n",
       "        <td>5ff1e194b6a9d73a3a9f1052</td>\n",
       "        <td>WI</td>\n",
       "        <td>2021-01-03 15:24:04.800000</td>\n",
       "        <td>2021-01-03 15:25:37.858000</td>\n",
       "        <td>consumer</td>\n",
       "        <td>True</td>\n",
       "    </tr>\n",
       "    <tr>\n",
       "        <td>5ff1e1eacfcf6c399c274ae6</td>\n",
       "        <td>WI</td>\n",
       "        <td>2021-01-03 15:25:30.554000</td>\n",
       "        <td>2021-01-03 15:25:30.597000</td>\n",
       "        <td>consumer</td>\n",
       "        <td>True</td>\n",
       "    </tr>\n",
       "    <tr>\n",
       "        <td>5ff1e194b6a9d73a3a9f1052</td>\n",
       "        <td>WI</td>\n",
       "        <td>2021-01-03 15:24:04.800000</td>\n",
       "        <td>2021-01-03 15:25:37.858000</td>\n",
       "        <td>consumer</td>\n",
       "        <td>True</td>\n",
       "    </tr>\n",
       "</table>"
      ],
      "text/plain": [
       "[('5ff1e194b6a9d73a3a9f1052', 'WI', '2021-01-03 15:24:04.800000', '2021-01-03 15:25:37.858000', 'consumer', 'True'),\n",
       " ('5ff1e194b6a9d73a3a9f1052', 'WI', '2021-01-03 15:24:04.800000', '2021-01-03 15:25:37.858000', 'consumer', 'True'),\n",
       " ('5ff1e194b6a9d73a3a9f1052', 'WI', '2021-01-03 15:24:04.800000', '2021-01-03 15:25:37.858000', 'consumer', 'True'),\n",
       " ('5ff1e1eacfcf6c399c274ae6', 'WI', '2021-01-03 15:25:30.554000', '2021-01-03 15:25:30.597000', 'consumer', 'True'),\n",
       " ('5ff1e194b6a9d73a3a9f1052', 'WI', '2021-01-03 15:24:04.800000', '2021-01-03 15:25:37.858000', 'consumer', 'True')]"
      ]
     },
     "execution_count": 47,
     "metadata": {},
     "output_type": "execute_result"
    }
   ],
   "source": [
    "%%sql\n",
    "\n",
    "SELECT * FROM  sql_users\n",
    "LIMIT 5;\n"
   ]
  },
  {
   "cell_type": "markdown",
   "metadata": {},
   "source": [
    "## Second: Write a query that directly answers a predetermined question from a business stakeholder"
   ]
  },
  {
   "cell_type": "markdown",
   "metadata": {},
   "source": [
    "### What are the top 5 brands by receipts scanned for most recent month?"
   ]
  },
  {
   "cell_type": "markdown",
   "metadata": {},
   "source": [
    "We assume most recent date (current date) is'2021-03-01', based on the Max datescanned of receipts"
   ]
  },
  {
   "cell_type": "code",
   "execution_count": 49,
   "metadata": {},
   "outputs": [
    {
     "name": "stdout",
     "output_type": "stream",
     "text": [
      " * sqlite:///engine.sqlite\n",
      "Done.\n"
     ]
    },
    {
     "data": {
      "text/html": [
       "<table>\n",
       "    <tr>\n",
       "        <th>MAX(dateScanned)</th>\n",
       "    </tr>\n",
       "    <tr>\n",
       "        <td>2021-03-01 23:17:34.772000</td>\n",
       "    </tr>\n",
       "</table>"
      ],
      "text/plain": [
       "[('2021-03-01 23:17:34.772000',)]"
      ]
     },
     "execution_count": 49,
     "metadata": {},
     "output_type": "execute_result"
    }
   ],
   "source": [
    "%%sql\n",
    "SELECT MAX(dateScanned) FROM sql_receipts"
   ]
  },
  {
   "cell_type": "code",
   "execution_count": 51,
   "metadata": {},
   "outputs": [
    {
     "name": "stdout",
     "output_type": "stream",
     "text": [
      " * sqlite:///engine.sqlite\n",
      "Done.\n"
     ]
    },
    {
     "data": {
      "text/html": [
       "<table>\n",
       "    <tr>\n",
       "        <th>Brand_Name</th>\n",
       "    </tr>\n",
       "    <tr>\n",
       "        <td>SARGENTO</td>\n",
       "    </tr>\n",
       "    <tr>\n",
       "        <td>SWISS</td>\n",
       "    </tr>\n",
       "    <tr>\n",
       "        <td>HEINZ</td>\n",
       "    </tr>\n",
       "    <tr>\n",
       "        <td>DUNCAN</td>\n",
       "    </tr>\n",
       "    <tr>\n",
       "        <td>DORITOS</td>\n",
       "    </tr>\n",
       "</table>"
      ],
      "text/plain": [
       "[('SARGENTO',), ('SWISS',), ('HEINZ',), ('DUNCAN',), ('DORITOS',)]"
      ]
     },
     "execution_count": 51,
     "metadata": {},
     "output_type": "execute_result"
    }
   ],
   "source": [
    "%%sql\n",
    "WITH final AS(\n",
    "WITH grouped AS\n",
    "    (WITH filtered AS\n",
    "        (SELECT * FROM sql_receipts\n",
    "        WHERE DATE(dateScanned) BETWEEN '2021-02-01' AND '2021-02-28' AND rewardsGroup_cleaned!='Null')\n",
    "    SELECT rewardsGroup_cleaned, COUNT(*) FROM filtered\n",
    "    GROUP BY rewardsGroup_cleaned\n",
    "    ORDER BY COUNT(*) DESC\n",
    "    LIMIT 5)\n",
    "    \n",
    "SELECT grouped.rewardsGroup_cleaned , sql_brands.name_cleaned, sql_brands.name  FROM grouped\n",
    "LEFT JOIN sql_brands\n",
    "ON UPPER(rewardsGroup_cleaned) = UPPER(name_cleaned))\n",
    "\n",
    "    \n",
    "SELECT \n",
    "CASE\n",
    "WHEN name IS NOT NULL THEN UPPER(name)\n",
    "ELSE UPPER(rewardsGroup_cleaned)\n",
    "END AS Brand_Name\n",
    "FROM final"
   ]
  },
  {
   "cell_type": "markdown",
   "metadata": {},
   "source": [
    "we can see names might be null but we extract name from rewardsGroup in the rewardsReceiptItemList column\n",
    "\n",
    "we can see the 5 top brands are SARGENTO, SWISS, HEINZ, DUNCAN, DORITOS"
   ]
  },
  {
   "cell_type": "markdown",
   "metadata": {},
   "source": [
    "### How does the ranking of the top 5 brands by receipts scanned for the recent month compare to the ranking for the previous month?"
   ]
  },
  {
   "cell_type": "code",
   "execution_count": 52,
   "metadata": {},
   "outputs": [
    {
     "name": "stdout",
     "output_type": "stream",
     "text": [
      " * sqlite:///engine.sqlite\n",
      "Done.\n"
     ]
    },
    {
     "data": {
      "text/html": [
       "<table>\n",
       "    <tr>\n",
       "        <th>Brand_Name</th>\n",
       "    </tr>\n",
       "    <tr>\n",
       "        <td>BEN &amp; JERRY&#x27;S</td>\n",
       "    </tr>\n",
       "    <tr>\n",
       "        <td>SARGENTO</td>\n",
       "    </tr>\n",
       "    <tr>\n",
       "        <td>HUGGIES LITTLE SWIMMERS</td>\n",
       "    </tr>\n",
       "    <tr>\n",
       "        <td>HUGGIES</td>\n",
       "    </tr>\n",
       "    <tr>\n",
       "        <td>KNORR</td>\n",
       "    </tr>\n",
       "    <tr>\n",
       "        <td>PEPSI DIET</td>\n",
       "    </tr>\n",
       "    <tr>\n",
       "        <td>PEPSI</td>\n",
       "    </tr>\n",
       "    <tr>\n",
       "        <td>PEPSI MAX</td>\n",
       "    </tr>\n",
       "</table>"
      ],
      "text/plain": [
       "[(\"BEN & JERRY'S\",),\n",
       " ('SARGENTO',),\n",
       " ('HUGGIES LITTLE SWIMMERS',),\n",
       " ('HUGGIES',),\n",
       " ('KNORR',),\n",
       " ('PEPSI DIET',),\n",
       " ('PEPSI',),\n",
       " ('PEPSI MAX',)]"
      ]
     },
     "execution_count": 52,
     "metadata": {},
     "output_type": "execute_result"
    }
   ],
   "source": [
    "%%sql\n",
    "WITH result AS(WITH final AS(\n",
    "\n",
    "WITH grouped AS\n",
    "    (WITH filtered AS\n",
    "        (SELECT * FROM sql_receipts\n",
    "        WHERE DATE(dateScanned) BETWEEN '2021-01-01' AND '2021-01-31' AND rewardsGroup_cleaned!='Null')\n",
    "    SELECT rewardsGroup_cleaned, COUNT(*) FROM filtered\n",
    "    GROUP BY rewardsGroup_cleaned\n",
    "    ORDER BY COUNT(*) DESC\n",
    "    LIMIT 5)\n",
    "    \n",
    "SELECT grouped.rewardsGroup_cleaned , sql_brands.name_cleaned, sql_brands.name  FROM grouped\n",
    "LEFT JOIN sql_brands\n",
    "ON UPPER(rewardsGroup_cleaned) = UPPER(name_cleaned))\n",
    "\n",
    "SELECT \n",
    "CASE\n",
    "WHEN  name IS NOT NULL THEN UPPER(name)\n",
    "ELSE UPPER(rewardsGroup_cleaned)\n",
    "END AS Brand_Name\n",
    "FROM final)\n",
    "SELECT DISTINCT(Brand_Name) FROM result"
   ]
  },
  {
   "cell_type": "markdown",
   "metadata": {},
   "source": [
    "I we assume that for example HUGGIES LITTLE SWIMMERS is different from HUGGIES  or PEPSI DIET is different from PEPSI\n",
    "and PEPSI MAX. Based on this assumption,  the top 5 brands for the previous month (BETWEEN '2021-01-01' AND '2021-01-31') are BEN & JERRY'S, SARGENTO, HUGGIES LITTLE SWIMMERS, HUGGIES and KNORR.\n",
    "\n",
    "However, if we assume that HUGGIES LITTLE SWIMMERS is the same as  HUGGIES  or PEPSI DIET is the same as PEPSI\n",
    "and PEPSI MAX, the top 5 brands for the previous month (BETWEEN '2021-01-01' AND '2021-01-31') would be BEN & JERRY'S, SARGENTO, HUGGIES, KNORR and PEPSI.\n",
    "\n",
    " \n",
    "On the other hand, for the most recent month, the the top 5 brands were SARGENTO, SWISS, HEINZ, DUNCAN and DORITOS."
   ]
  },
  {
   "cell_type": "markdown",
   "metadata": {},
   "source": [
    "###  When considering average spend from receipts with 'rewardsReceiptStatus’ of ‘Accepted’ or ‘Rejected’, which is greater?"
   ]
  },
  {
   "cell_type": "markdown",
   "metadata": {},
   "source": [
    "I assumed that finished means accepted"
   ]
  },
  {
   "cell_type": "code",
   "execution_count": 53,
   "metadata": {},
   "outputs": [
    {
     "name": "stdout",
     "output_type": "stream",
     "text": [
      " * sqlite:///engine.sqlite\n",
      "Done.\n"
     ]
    },
    {
     "data": {
      "text/html": [
       "<table>\n",
       "    <tr>\n",
       "        <th>rewardsReceiptStatus</th>\n",
       "        <th>Average_Spend</th>\n",
       "    </tr>\n",
       "    <tr>\n",
       "        <td>FINISHED</td>\n",
       "        <td>1244.0</td>\n",
       "    </tr>\n",
       "    <tr>\n",
       "        <td>REJECTED</td>\n",
       "        <td>20.0</td>\n",
       "    </tr>\n",
       "</table>"
      ],
      "text/plain": [
       "[('FINISHED', 1244.0), ('REJECTED', 20.0)]"
      ]
     },
     "execution_count": 53,
     "metadata": {},
     "output_type": "execute_result"
    }
   ],
   "source": [
    "%%sql\n",
    "SELECT rewardsReceiptStatus, ROUND(AVG(totalSpent)) AS Average_Spend FROM sql_receipts\n",
    "WHERE rewardsReceiptStatus='FINISHED'\n",
    "GROUP BY rewardsReceiptStatus\n",
    "UNION\n",
    "SELECT rewardsReceiptStatus, ROUND(AVG(totalSpent)) AS Average_Spend FROM sql_receipts\n",
    "WHERE rewardsReceiptStatus='REJECTED'\n",
    "GROUP BY rewardsReceiptStatus"
   ]
  },
  {
   "cell_type": "markdown",
   "metadata": {},
   "source": [
    "The above table shows that average spend from receipts with 'rewardsReceiptStatus’ of ‘Accepted’ (Finished) is greater"
   ]
  },
  {
   "cell_type": "markdown",
   "metadata": {},
   "source": [
    "### When considering total number of items purchased from receipts with 'rewardsReceiptStatus’ of ‘Accepted’ or ‘Rejected’, which is greater?"
   ]
  },
  {
   "cell_type": "code",
   "execution_count": 412,
   "metadata": {},
   "outputs": [
    {
     "name": "stdout",
     "output_type": "stream",
     "text": [
      "   sqlite:///engine.sqlite\n",
      " * sqlite:///save_pandas.db.sqlite\n",
      "   sqlite:///testdb.sqlite\n",
      "Done.\n"
     ]
    },
    {
     "data": {
      "text/html": [
       "<table>\n",
       "    <tr>\n",
       "        <th>rewardsReceiptStatus</th>\n",
       "        <th>Total_Number_Purchased</th>\n",
       "    </tr>\n",
       "    <tr>\n",
       "        <td>FINISHED</td>\n",
       "        <td>1364998</td>\n",
       "    </tr>\n",
       "    <tr>\n",
       "        <td>REJECTED</td>\n",
       "        <td>740</td>\n",
       "    </tr>\n",
       "</table>"
      ],
      "text/plain": [
       "[('FINISHED', 1364998), ('REJECTED', 740)]"
      ]
     },
     "execution_count": 412,
     "metadata": {},
     "output_type": "execute_result"
    }
   ],
   "source": [
    "%%sql\n",
    "SELECT rewardsReceiptStatus, SUM(purchasedItemCount) AS Total_Number_Purchased FROM sql_receipts\n",
    "WHERE rewardsReceiptStatus='FINISHED'\n",
    "GROUP BY rewardsReceiptStatus\n",
    "UNION\n",
    "SELECT rewardsReceiptStatus, SUM(purchasedItemCount) AS Total_Number_Purchased FROM sql_receipts\n",
    "WHERE rewardsReceiptStatus='REJECTED'\n",
    "GROUP BY rewardsReceiptStatus"
   ]
  },
  {
   "cell_type": "markdown",
   "metadata": {},
   "source": [
    "The above table shows that total number of items purchased from receipts with 'rewardsReceiptStatus’ of ‘Accepted’ (Finished)\n",
    "is greater?"
   ]
  },
  {
   "cell_type": "markdown",
   "metadata": {},
   "source": [
    "### Which brand has the most spend among users who were created within the past 6 months?"
   ]
  },
  {
   "cell_type": "markdown",
   "metadata": {},
   "source": [
    "Based on Max date of receipts, we assume most recent date (current date) is'2021-03-01' "
   ]
  },
  {
   "cell_type": "code",
   "execution_count": 480,
   "metadata": {},
   "outputs": [
    {
     "name": "stdout",
     "output_type": "stream",
     "text": [
      "   sqlite:///engine.sqlite\n",
      " * sqlite:///save_pandas.db.sqlite\n",
      "   sqlite:///testdb.sqlite\n",
      "Done.\n"
     ]
    },
    {
     "data": {
      "text/html": [
       "<table>\n",
       "    <tr>\n",
       "        <th>Brand_Name</th>\n",
       "        <th>Sum_Total_Spent</th>\n",
       "    </tr>\n",
       "    <tr>\n",
       "        <td>HUGGIES</td>\n",
       "        <td>256199.2</td>\n",
       "    </tr>\n",
       "</table>"
      ],
      "text/plain": [
       "[('HUGGIES', 256199.2)]"
      ]
     },
     "execution_count": 480,
     "metadata": {},
     "output_type": "execute_result"
    }
   ],
   "source": [
    "%%sql\n",
    "WITH result AS(\n",
    "WITH final AS(\n",
    "WITH merged AS( WITH tab AS(\n",
    "SELECT * FROM  sql_users\n",
    "WHERE DATE(createdDate) BETWEEN   '2020-09-01' AND '2021-03-01')\n",
    "\n",
    "SELECT tab.user_id, totalSpent, rewardsGroup_cleaned FROM tab\n",
    "INNER JOIN sql_receipts\n",
    "ON tab.user_id= sql_receipts.userId\n",
    "WHERE rewardsGroup_cleaned!='Null' )\n",
    "\n",
    "SELECT  sql_brands.name,name_cleaned, rewardsGroup_cleaned, totalSpent  FROM merged\n",
    "LEFT JOIN sql_brands\n",
    "ON UPPER(rewardsGroup_cleaned) = UPPER(name_cleaned))\n",
    "\n",
    "SELECT \n",
    "CASE\n",
    "WHEN  name IS NOT NULL THEN UPPER(name)\n",
    "ELSE UPPER(rewardsGroup_cleaned)\n",
    "END AS Brand_Name,\n",
    "totalSpent\n",
    "FROM final)\n",
    "SELECT Brand_Name, SUM( totalSpent) AS Sum_Total_Spent FROM result\n",
    "GROUP BY Brand_Name\n",
    "ORDER BY SUM( totalSpent) DESC\n",
    "LIMIT 1"
   ]
  },
  {
   "cell_type": "markdown",
   "metadata": {},
   "source": [
    "Huggies has the most spend among users who were created within the past 6 months, assuming that the current date is 2021-03-01"
   ]
  },
  {
   "cell_type": "markdown",
   "metadata": {},
   "source": [
    "### Which brand has the most transactions among users who were created within the past 6 months?"
   ]
  },
  {
   "cell_type": "code",
   "execution_count": 497,
   "metadata": {},
   "outputs": [
    {
     "name": "stdout",
     "output_type": "stream",
     "text": [
      "   sqlite:///engine.sqlite\n",
      " * sqlite:///save_pandas.db.sqlite\n",
      "   sqlite:///testdb.sqlite\n",
      "Done.\n"
     ]
    },
    {
     "data": {
      "text/html": [
       "<table>\n",
       "    <tr>\n",
       "        <th>Brand_Name</th>\n",
       "        <th>Number_Transactions</th>\n",
       "    </tr>\n",
       "    <tr>\n",
       "        <td>HUGGIES</td>\n",
       "        <td>3080</td>\n",
       "    </tr>\n",
       "</table>"
      ],
      "text/plain": [
       "[('HUGGIES', 3080)]"
      ]
     },
     "execution_count": 497,
     "metadata": {},
     "output_type": "execute_result"
    }
   ],
   "source": [
    "%%sql\n",
    "WITH result AS(\n",
    "WITH final AS(\n",
    "WITH merged AS(WITH tab AS(\n",
    "SELECT * FROM  sql_users\n",
    "WHERE DATE(createdDate) BETWEEN   '2020-09-01' AND '2021-03-01')\n",
    "\n",
    "SELECT receipt_id,  rewardsGroup_cleaned FROM tab\n",
    "INNER JOIN sql_receipts\n",
    "ON tab.user_id= sql_receipts.userId\n",
    "WHERE rewardsGroup_cleaned!='Null')\n",
    "\n",
    "SELECT  sql_brands.name, name_cleaned, rewardsGroup_cleaned, receipt_id  FROM merged\n",
    "LEFT JOIN sql_brands\n",
    "ON UPPER(rewardsGroup_cleaned) = UPPER(name_cleaned))\n",
    "\n",
    "SELECT \n",
    "CASE\n",
    "WHEN  name IS NOT NULL THEN UPPER(name)\n",
    "ELSE UPPER(rewardsGroup_cleaned)\n",
    "END AS Brand_Name,\n",
    "receipt_id\n",
    "FROM final)\n",
    "\n",
    "SELECT Brand_Name, COUNT(receipt_id ) AS Number_Transactions FROM result\n",
    "GROUP BY Brand_Name\n",
    "ORDER BY COUNT(receipt_id) DESC\n",
    "LIMIT 1"
   ]
  },
  {
   "cell_type": "markdown",
   "metadata": {},
   "source": [
    "Huggies has the most number of transactions among users who were created within the past 6 months, assuming that \n",
    "the current date is 2021-03-01"
   ]
  },
  {
   "cell_type": "markdown",
   "metadata": {},
   "source": [
    "## Third: Evaluate Data Quality Issues in the Data Provided"
   ]
  },
  {
   "cell_type": "markdown",
   "metadata": {},
   "source": [
    "First I checked the percentage of **Missing Values**  in different columns in 3 dataframes, including df_receipts,df_brands and df_users."
   ]
  },
  {
   "cell_type": "code",
   "execution_count": 150,
   "metadata": {},
   "outputs": [
    {
     "data": {
      "text/plain": [
       "rewardsGroup               76.547893\n",
       "finishedDate               19.116651\n",
       "bonusPointsEarnedReason    18.981168\n",
       "bonusPointsEarned          18.981168\n",
       "pointsAwardedDate          17.626338\n",
       "pointsEarned               15.282482\n",
       "description                11.123154\n",
       "purchasedItemCount          6.557377\n",
       "purchaseDate                6.205121\n",
       "totalSpent                  5.893510\n",
       "userId                      0.000000\n",
       "rewardsReceiptStatus        0.000000\n",
       "modifyDate                  0.000000\n",
       "dateScanned                 0.000000\n",
       "createDate                  0.000000\n",
       "receipt_id                  0.000000\n",
       "dtype: float64"
      ]
     },
     "execution_count": 150,
     "metadata": {},
     "output_type": "execute_result"
    }
   ],
   "source": [
    "val=[]\n",
    "ind=[]\n",
    "for a in df_receipts.columns[:-1]:\n",
    "    ind.append(a)\n",
    "    val.append(100*(df_receipts[df_receipts[a]=='Null'].shape[0])/(df_receipts[a].shape[0]))\n",
    "pd.Series(data= val, index=ind).sort_values(ascending=False)"
   ]
  },
  {
   "cell_type": "markdown",
   "metadata": {},
   "source": [
    "We can see that 76.5% of data in the rewardsGroup column extracted from rewardsReceiptItemList column in df_receipt is missing. Also, other columns have relatively high percentage of missing values.            "
   ]
  },
  {
   "cell_type": "code",
   "execution_count": 153,
   "metadata": {},
   "outputs": [
    {
     "data": {
      "text/plain": [
       "categoryCode    55.698372\n",
       "topBrand        52.442159\n",
       "brandCode       20.051414\n",
       "category        13.281919\n",
       "name             0.000000\n",
       "cpg              0.000000\n",
       "barcode          0.000000\n",
       "brand_id         0.000000\n",
       "dtype: float64"
      ]
     },
     "execution_count": 153,
     "metadata": {},
     "output_type": "execute_result"
    }
   ],
   "source": [
    "val=[]\n",
    "ind=[]\n",
    "for a in df_brands.columns[:-1]:\n",
    "    ind.append(a)\n",
    "    val.append(100*(df_brands[df_brands[a]=='Null'].shape[0])/(df_brands[a].shape[0]))\n",
    "pd.Series(data= val, index=ind).sort_values(ascending=False)"
   ]
  },
  {
   "cell_type": "markdown",
   "metadata": {},
   "source": [
    "We can see that about 55.7% of data in the categoryCode column in df_brands is missing. Also, other columns such as topBrand have relatively high percentage of missing values."
   ]
  },
  {
   "cell_type": "code",
   "execution_count": 152,
   "metadata": {},
   "outputs": [
    {
     "data": {
      "text/plain": [
       "lastLogin      12.525253\n",
       "state          11.313131\n",
       "role            0.000000\n",
       "createdDate     0.000000\n",
       "user_id         0.000000\n",
       "dtype: float64"
      ]
     },
     "execution_count": 152,
     "metadata": {},
     "output_type": "execute_result"
    }
   ],
   "source": [
    "val=[]\n",
    "ind=[]\n",
    "for a in df_users.columns[:-1]:\n",
    "    ind.append(a)\n",
    "    val.append(100*(df_users[df_users[a]=='Null'].shape[0])/(df_users[a].shape[0]))\n",
    "pd.Series(data= val, index=ind).sort_values(ascending=False)"
   ]
  },
  {
   "cell_type": "markdown",
   "metadata": {},
   "source": [
    "We can see that about 12.5% of data in the lastLogin column in df_users is missing. Also,  11.3% data in the state column in missing."
   ]
  },
  {
   "cell_type": "markdown",
   "metadata": {},
   "source": [
    "Now I check the percentage of **Outliers** for one of the columns (totalSpent) in df_receipts."
   ]
  },
  {
   "cell_type": "code",
   "execution_count": 176,
   "metadata": {},
   "outputs": [
    {
     "name": "stdout",
     "output_type": "stream",
     "text": [
      "Percentage_of_outliers in total_spent column is 18.57\n"
     ]
    }
   ],
   "source": [
    "Q_25 = df_receipts[df_receipts['totalSpent']!='Null']['totalSpent'].apply(lambda x: float(x)).quantile(q=0.25)\n",
    "Q_75 = df_receipts[df_receipts['totalSpent']!='Null']['totalSpent'].apply(lambda x: float(x)).quantile(q=0.75)\n",
    "\n",
    "res=[]\n",
    "for a in df_receipts[df_receipts['totalSpent']!='Null']['totalSpent'].apply(lambda x: float(x)):\n",
    "    if (a>Q_75+1.5*IQR or a<Q_25-1.5*IQR) and (a not in res):\n",
    "        res.append(a)\n",
    "        \n",
    "df_receipts_without_null_totalspent = df_receipts[df_receipts['totalSpent']!='Null']\n",
    "df_receipts_without_null_totalspent['totalSpent'] = df_receipts_without_null_totalspent['totalSpent'].apply(lambda x: float(x))\n",
    "\n",
    "Percentage_of_outliers = 100*df_receipts_without_null_totalspent[df_receipts_without_null_totalspent['totalSpent'].isin(res)].shape[0]/df_receipts_without_null_totalspent['totalSpent'].shape[0]\n",
    "print('Percentage_of_outliers in total_spent column is', round(Percentage_of_outliers, 2))"
   ]
  },
  {
   "cell_type": "code",
   "execution_count": null,
   "metadata": {},
   "outputs": [],
   "source": [
    "We can see that the percentage_of_outliers in total_spent column is 18.57% which is relatively hight and should be removed."
   ]
  },
  {
   "cell_type": "markdown",
   "metadata": {},
   "source": [
    "## Third: Communicate with Stakeholders"
   ]
  },
  {
   "cell_type": "markdown",
   "metadata": {},
   "source": [
    "Dear Sir,\n",
    "\n",
    "\n",
    "I analyzed the data as per your request and you can find the results as attached. There are some issues I would like to mention here.\n",
    "\n",
    "As it is very important to make a relationship between the receipts data and brands data, the quality of data was evaluated. However, there is not an easily detectable relationship between these two data. Therefore, I extracted the rewardsGroup data from rewardsReceiptItemList in receipt table. This data contained the name of brands, so I related it to brand names in brands table. However, there are some inconsistencies between the rewardsGroup data and brands name.\n",
    "\n",
    "\n",
    "It is noteworthy to mention that rewardsReceiptItemList in receipt table contains barcode data which should be consistent with the barcode data in brands table, but the range of barcodes in brands table and receipt table are totally different. Could you please clarify if the barcodes in receipt table are valid? Do you have any preference for selecting the column that can be used making a relationship between the receipt table and brands table?\n",
    "\n",
    "\n",
    "Regarding the quality issues, the percentage of outliers in total spent column in receipts table is relatively high, so the outliers should be removed. Moreover, we can see that 76.5% of data in the rewardsGroup column extracted from rewardsReceiptItemList column in receipt table is missing. Also, other columns of this table have relatively high percentage of missing values.  In the brands table, 55.7% of data in the categoryCode column is missing. Also, other columns such as topBrand have relatively high percentage of missing values. In the users table, two columns have slightly high percentage of missing values.\n",
    "\n",
    "\n",
    "I order to resolve the quality issues, we can filter out the rows in the columns in which the percentage of missing values are very small and less than oner percent. Also, we can drop the columns that have more than 70% missing values. For the columns that have less than 70% missing values we can fill in the missing values with mean or median of the column.  We can also fill these missing values by Imputation using deep learning or even predict the missing values Using random forests algorithm.\n",
    "If you gather and provide some additional information, we can optimize the data assets. For example, if we have the age and gender of users, we can categorize the brands with the highest total spent for men and women or categorize them based on the users’ age. Moreover, if it is possible to provide the missing data in each column for receipts, brands and users data, a more accurate analysis could be performed.\n",
    "\n",
    "\n",
    "Finally, in order to scale the production, you can use a more robust caching engine, scale your server, ease server load or reduce read load by adding more read replicas.\n",
    "\n",
    "\n",
    "Please let me know if you need any further information. I look forward to hearing about you.\n",
    "\n",
    "\n",
    "\n",
    "Kind regards,\n",
    "\n",
    "\n",
    "Soha\n"
   ]
  }
 ],
 "metadata": {
  "kernelspec": {
   "display_name": "Python 3",
   "language": "python",
   "name": "python3"
  },
  "language_info": {
   "codemirror_mode": {
    "name": "ipython",
    "version": 3
   },
   "file_extension": ".py",
   "mimetype": "text/x-python",
   "name": "python",
   "nbconvert_exporter": "python",
   "pygments_lexer": "ipython3",
   "version": "3.7.4"
  },
  "toc": {
   "base_numbering": 1,
   "nav_menu": {},
   "number_sections": false,
   "sideBar": false,
   "skip_h1_title": false,
   "title_cell": "Table of Contents",
   "title_sidebar": "Contents",
   "toc_cell": false,
   "toc_position": {},
   "toc_section_display": false,
   "toc_window_display": false
  }
 },
 "nbformat": 4,
 "nbformat_minor": 2
}
